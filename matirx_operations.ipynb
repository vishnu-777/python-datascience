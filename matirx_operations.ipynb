{
  "cells": [
    {
      "cell_type": "markdown",
      "metadata": {
        "id": "view-in-github",
        "colab_type": "text"
      },
      "source": [
        "<a href=\"https://colab.research.google.com/github/vishnu-777/python-datascience/blob/main/matirx_operations.ipynb\" target=\"_parent\"><img src=\"https://colab.research.google.com/assets/colab-badge.svg\" alt=\"Open In Colab\"/></a>"
      ]
    },
    {
      "cell_type": "code",
      "execution_count": 17,
      "metadata": {
        "colab": {
          "base_uri": "https://localhost:8080/"
        },
        "id": "dYfxHNt1qHzc",
        "outputId": "2f4f0d59-1398-467e-bb5b-d775727cadae"
      },
      "outputs": [
        {
          "output_type": "stream",
          "name": "stdout",
          "text": [
            "[[1 2 3]\n",
            " [4 5 6]\n",
            " [7 8 9]]\n",
            "[[ 6  7  8]\n",
            " [ 9 10 11]\n",
            " [12 13 14]]\n",
            "sum is  [[ 7  9 11]\n",
            " [13 15 17]\n",
            " [19 21 23]]\n",
            "multiplcation is [[  6  14  24]\n",
            " [ 36  50  66]\n",
            " [ 84 104 126]]\n",
            "division is [[0.16666667 0.28571429 0.375     ]\n",
            " [0.44444444 0.5        0.54545455]\n",
            " [0.58333333 0.61538462 0.64285714]]\n",
            "subtraction is [[-5 -5 -5]\n",
            " [-5 -5 -5]\n",
            " [-5 -5 -5]]\n"
          ]
        }
      ],
      "source": [
        "import numpy as np\n",
        "a=np.array([[1,2,3],[4,5,6],[7,8,9]])\n",
        "print(a)\n",
        "b=np.arange(start=6,stop=15).reshape(3,3)\n",
        "print(b)\n",
        "sum=(np.add(a,b))\n",
        "print(\"sum is \",sum)\n",
        "print(\"multiplcation is\",np.multiply(a,b))\n",
        "print(\"division is\",np.divide(a,b))\n",
        "print(\"subtraction is\",np.subtract(a,b))"
      ]
    }
  ],
  "metadata": {
    "colab": {
      "provenance": [],
      "authorship_tag": "ABX9TyPFPl/u1l9gdEmLdCw6XfRy",
      "include_colab_link": true
    },
    "kernelspec": {
      "display_name": "Python 3",
      "name": "python3"
    },
    "language_info": {
      "name": "python"
    }
  },
  "nbformat": 4,
  "nbformat_minor": 0
}