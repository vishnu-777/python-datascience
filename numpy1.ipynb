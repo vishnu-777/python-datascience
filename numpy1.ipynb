{
  "nbformat": 4,
  "nbformat_minor": 0,
  "metadata": {
    "colab": {
      "provenance": [],
      "authorship_tag": "ABX9TyPz1WAy11LD4/aQDht6z8ZB",
      "include_colab_link": true
    },
    "kernelspec": {
      "name": "python3",
      "display_name": "Python 3"
    },
    "language_info": {
      "name": "python"
    }
  },
  "cells": [
    {
      "cell_type": "markdown",
      "metadata": {
        "id": "view-in-github",
        "colab_type": "text"
      },
      "source": [
        "<a href=\"https://colab.research.google.com/github/vishnu-777/python-datascience/blob/main/numpy1.ipynb\" target=\"_parent\"><img src=\"https://colab.research.google.com/assets/colab-badge.svg\" alt=\"Open In Colab\"/></a>"
      ]
    },
    {
      "cell_type": "code",
      "execution_count": 45,
      "metadata": {
        "colab": {
          "base_uri": "https://localhost:8080/"
        },
        "id": "ZEvuwGo8OnoQ",
        "outputId": "cc606991-5ee7-4015-dce1-2307372adb03"
      },
      "outputs": [
        {
          "output_type": "stream",
          "name": "stdout",
          "text": [
            "['1' '2' '3' 'a']\n",
            "<class 'numpy.ndarray'>\n",
            "[1.         1.35714286 1.71428571 2.07142857 2.42857143 2.78571429\n",
            " 3.14285714 3.5        3.85714286 4.21428571 4.57142857 4.92857143\n",
            " 5.28571429 5.64285714 6.        ]\n",
            "<class 'numpy.ndarray'>\n",
            "(15,)\n",
            "(4,)\n",
            "[ 1  4  7 10]\n",
            "[[1. 1.]\n",
            " [1. 1.]]\n",
            "\n",
            " [[0. 0.]\n",
            " [0. 0.]\n",
            " [0. 0.]]\n",
            "[[0.41087577 0.71635224]]\n",
            "[1.00000000e+01 1.77827941e+03 3.16227766e+05 5.62341325e+07\n",
            " 1.00000000e+10]\n"
          ]
        }
      ],
      "source": [
        "import numpy as np\n",
        "arr=np.array([1,2,3,'a'])\n",
        "print(arr)\n",
        "print(type(arr))\n",
        "\n",
        "arr2=np.linspace(start=1,stop=6,num=15,endpoint=True,retstep=False)\n",
        "print(arr2)\n",
        "print(type(arr2))\n",
        "print(np.shape(arr2))\n",
        "print(np.shape(arr))\n",
        "\n",
        "arr3=np.arange(start=1,stop=11,step=3)\n",
        "print(arr3)\n",
        "\n",
        "arr4=np.ones((2,2))\n",
        "print(arr4)\n",
        "\n",
        "arr5=np.zeros((3,2))\n",
        "print(\"\\n\",arr5)\n",
        "\n",
        "arr6=np.random.rand(1,2)\n",
        "print(arr6)\n",
        "\n",
        "arr7=np.logspace(start=1,stop=10,num=5,base=10)\n",
        "print(arr7)"
      ]
    }
  ]
}