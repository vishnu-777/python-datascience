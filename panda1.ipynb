{
  "cells": [
    {
      "cell_type": "markdown",
      "metadata": {
        "id": "view-in-github",
        "colab_type": "text"
      },
      "source": [
        "<a href=\"https://colab.research.google.com/github/vishnu-777/python-datascience/blob/main/panda1.ipynb\" target=\"_parent\"><img src=\"https://colab.research.google.com/assets/colab-badge.svg\" alt=\"Open In Colab\"/></a>"
      ]
    },
    {
      "cell_type": "code",
      "execution_count": 106,
      "metadata": {
        "colab": {
          "base_uri": "https://localhost:8080/"
        },
        "id": "dYfxHNt1qHzc",
        "outputId": "ab8d0a1f-39e4-48d8-bdcc-fa43d1c47e0e"
      },
      "outputs": [
        {
          "output_type": "stream",
          "name": "stdout",
          "text": [
            "      Price   Age     KM FuelType   HP  MetColor  Automatic    CC  Doors  \\\n",
            "0     13500  23.0  46986   Diesel   90       1.0          0  2000  three   \n",
            "1     13750  23.0  72937   Diesel   90       1.0          0  2000      3   \n",
            "2     13950  24.0  41711   Diesel   90       NaN          0  2000      3   \n",
            "3     14950  26.0  48000   Diesel   90       0.0          0  2000      3   \n",
            "4     13750  30.0  38500   Diesel   90       0.0          0  2000      3   \n",
            "...     ...   ...    ...      ...  ...       ...        ...   ...    ...   \n",
            "1431   7500   NaN  20544   Petrol   86       1.0          0  1300      3   \n",
            "1432  10845  72.0     ??   Petrol   86       0.0          0  1300      3   \n",
            "1433   8500   NaN  17016   Petrol   86       0.0          0  1300      3   \n",
            "1434   7250  70.0     ??      NaN   86       1.0          0  1300      3   \n",
            "1435   6950  76.0      1   Petrol  110       0.0          0  1600      5   \n",
            "\n",
            "      Weight  \n",
            "0       1165  \n",
            "1       1165  \n",
            "2       1165  \n",
            "3       1165  \n",
            "4       1170  \n",
            "...      ...  \n",
            "1431    1025  \n",
            "1432    1015  \n",
            "1433    1015  \n",
            "1434    1015  \n",
            "1435    1114  \n",
            "\n",
            "[1436 rows x 10 columns]\n",
            "Int64Index([   0,    1,    2,    3,    4,    5,    6,    7,    8,    9,\n",
            "            ...\n",
            "            1426, 1427, 1428, 1429, 1430, 1431, 1432, 1433, 1434, 1435],\n",
            "           dtype='int64', length=1436)\n",
            "Index(['Price', 'Age', 'KM', 'FuelType', 'HP', 'MetColor', 'Automatic', 'CC',\n",
            "       'Doors', 'Weight'],\n",
            "      dtype='object')\n",
            "14360\n",
            "(1436, 10)\n",
            "Index        11488\n",
            "Price        11488\n",
            "Age          11488\n",
            "KM           11488\n",
            "FuelType     11488\n",
            "HP           11488\n",
            "MetColor     11488\n",
            "Automatic    11488\n",
            "CC           11488\n",
            "Doors        11488\n",
            "Weight       11488\n",
            "dtype: int64\n",
            "\n",
            "first 5 rows are     Price   Age     KM FuelType  HP  MetColor  Automatic    CC  Doors  Weight\n",
            "0  13500  23.0  46986   Diesel  90       1.0          0  2000  three    1165\n",
            "1  13750  23.0  72937   Diesel  90       1.0          0  2000      3    1165\n",
            "2  13950  24.0  41711   Diesel  90       NaN          0  2000      3    1165\n",
            "3  14950  26.0  48000   Diesel  90       0.0          0  2000      3    1165\n",
            "4  13750  30.0  38500   Diesel  90       0.0          0  2000      3    1170\n",
            "\n",
            "last 5 rows are        Price   Age     KM FuelType   HP  MetColor  Automatic    CC Doors  \\\n",
            "1431   7500   NaN  20544   Petrol   86       1.0          0  1300     3   \n",
            "1432  10845  72.0     ??   Petrol   86       0.0          0  1300     3   \n",
            "1433   8500   NaN  17016   Petrol   86       0.0          0  1300     3   \n",
            "1434   7250  70.0     ??      NaN   86       1.0          0  1300     3   \n",
            "1435   6950  76.0      1   Petrol  110       0.0          0  1600     5   \n",
            "\n",
            "      Weight  \n",
            "1431    1025  \n",
            "1432    1015  \n",
            "1433    1015  \n",
            "1434    1015  \n",
            "1435    1114  \n",
            "\n",
            "accessing values  13750\n",
            "48000\n",
            "26.0\n"
          ]
        }
      ],
      "source": [
        "\n",
        "import numpy as np\n",
        "import pandas as pd\n",
        "cardata=pd.read_csv('/content/toyota.csv',index_col=0)\n",
        "\n",
        "dupdata=cardata.copy(deep=True) #copy\n",
        "print(dupdata) \n",
        "print(dupdata.index) #to get rows\n",
        "print(dupdata.columns)  #to get columns\n",
        "print(dupdata.size)  \n",
        "print(dupdata.shape)\n",
        "print(dupdata.memory_usage())  #memory usage\n",
        "\n",
        "print(\"\\nfirst 5 rows are \",cardata.head(5))\n",
        "print(\"\\nlast 5 rows are \",cardata.tail(5))\n",
        "\n",
        "print(\"\\naccessing values \",dupdata.at[1,'Price'])\n",
        "\n",
        "print(dupdata.iat[3,2]) #accessing datas\n",
        "\n",
        "print(dupdata.loc[3,'Age'])  #accessing data"
      ]
    }
  ],
  "metadata": {
    "colab": {
      "provenance": [],
      "authorship_tag": "ABX9TyOBNXRmf+uEnYkUMLWaHBBc",
      "include_colab_link": true
    },
    "kernelspec": {
      "display_name": "Python 3",
      "name": "python3"
    },
    "language_info": {
      "name": "python"
    }
  },
  "nbformat": 4,
  "nbformat_minor": 0
}